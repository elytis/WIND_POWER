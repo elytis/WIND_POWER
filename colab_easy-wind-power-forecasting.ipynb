{
  "nbformat": 4,
  "nbformat_minor": 0,
  "metadata": {
    "kernelspec": {
      "language": "python",
      "display_name": "Python 3",
      "name": "python3"
    },
    "language_info": {
      "pygments_lexer": "ipython3",
      "nbconvert_exporter": "python",
      "version": "3.6.4",
      "file_extension": ".py",
      "codemirror_mode": {
        "name": "ipython",
        "version": 3
      },
      "name": "python",
      "mimetype": "text/x-python"
    },
    "colab": {
      "name": "easy-wind-power-forecasting.ipynb",
      "provenance": []
    }
  },
  "cells": [
    {
      "cell_type": "code",
      "metadata": {
        "_uuid": "8f2839f25d086af736a60e9eeb907d3b93b6e0e5",
        "_cell_guid": "b1076dfc-b9ad-4769-8c92-a6c4dae69d19",
        "trusted": true,
        "id": "XYEIadh_NN1Q"
      },
      "source": [
        "# This Python 3 environment comes with many helpful analytics libraries installed\n",
        "# It is defined by the kaggle/python Docker image: https://github.com/kaggle/docker-python\n",
        "# For example, here's several helpful packages to load\n",
        "\n",
        "import numpy as np # linear algebra\n",
        "import pandas as pd # data processing, CSV file I/O (e.g. pd.read_csv)\n",
        "\n",
        "# Input data files are available in the read-only \"../input/\" directory\n",
        "# For example, running this (by clicking run or pressing Shift+Enter) will list all files under the input directory\n",
        "\n",
        "import os\n",
        "for dirname, _, filenames in os.walk('/kaggle/input'):\n",
        "    for filename in filenames:\n",
        "        print(os.path.join(dirname, filename))\n",
        "\n",
        "# You can write up to 5GB to the current directory (/kaggle/working/) that gets preserved as output when you create a version using \"Save & Run All\" \n",
        "# You can also write temporary files to /kaggle/temp/, but they won't be saved outside of the current session"
      ],
      "execution_count": 5,
      "outputs": []
    },
    {
      "cell_type": "markdown",
      "metadata": {
        "id": "L9sXyzz9NN1S"
      },
      "source": [
        "## Wind Power Forecasting\n",
        "\n",
        "In this notebook we're going to  to predict the wind power that could be generated from the windmill for the next 15 days.  We'll use ARIMA model for forecasting. \n",
        "\n",
        "Let's start"
      ]
    },
    {
      "cell_type": "code",
      "metadata": {
        "_uuid": "d629ff2d2480ee46fbb7e2d37f6b5fab8052498a",
        "_cell_guid": "79c7e3d0-c299-4dcb-8224-4455121ee9b0",
        "trusted": true,
        "id": "5H_2GMFmNN1T"
      },
      "source": [
        "# import libraries\n",
        "import numpy as np\n",
        "import pandas as pd\n",
        "import matplotlib.pyplot as plt"
      ],
      "execution_count": 6,
      "outputs": []
    },
    {
      "cell_type": "code",
      "metadata": {
        "trusted": true,
        "colab": {
          "resources": {
            "http://localhost:8080/nbextensions/google.colab/files.js": {
              "data": "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",
              "ok": true,
              "headers": [
                [
                  "content-type",
                  "application/javascript"
                ]
              ],
              "status": 200,
              "status_text": ""
            }
          },
          "base_uri": "https://localhost:8080/",
          "height": 89
        },
        "id": "SRbBDgLSNN1U",
        "outputId": "cf6d8254-6eba-41ee-ca6b-0526c31c9a8c"
      },
      "source": [
        "from google.colab import files\n",
        "\n",
        "uploaded = files.upload()\n",
        "\n",
        "for fn in uploaded.keys():\n",
        "  print('User uploaded file \"{name}\" with length {length} bytes'.format(\n",
        "      name=fn, length=len(uploaded[fn])))"
      ],
      "execution_count": 7,
      "outputs": [
        {
          "output_type": "display_data",
          "data": {
            "text/html": [
              "\n",
              "     <input type=\"file\" id=\"files-fc08b44e-9fb6-41cf-be94-223033a341a4\" name=\"files[]\" multiple disabled\n",
              "        style=\"border:none\" />\n",
              "     <output id=\"result-fc08b44e-9fb6-41cf-be94-223033a341a4\">\n",
              "      Upload widget is only available when the cell has been executed in the\n",
              "      current browser session. Please rerun this cell to enable.\n",
              "      </output>\n",
              "      <script src=\"/nbextensions/google.colab/files.js\"></script> "
            ],
            "text/plain": [
              "<IPython.core.display.HTML object>"
            ]
          },
          "metadata": {
            "tags": []
          }
        },
        {
          "output_type": "stream",
          "text": [
            "Saving Turbine_Data.csv to Turbine_Data.csv\n",
            "User uploaded file \"Turbine_Data.csv\" with length 23013864 bytes\n"
          ],
          "name": "stdout"
        }
      ]
    },
    {
      "cell_type": "code",
      "metadata": {
        "trusted": true,
        "colab": {
          "base_uri": "https://localhost:8080/",
          "height": 309
        },
        "id": "bxWjqsbdNN1U",
        "outputId": "a0de4e31-ce54-4b9f-e99c-99d5694fc11e"
      },
      "source": [
        "df = pd.read_csv('Turbine_Data.csv')\n",
        "df.tail()"
      ],
      "execution_count": 13,
      "outputs": [
        {
          "output_type": "execute_result",
          "data": {
            "text/html": [
              "<div>\n",
              "<style scoped>\n",
              "    .dataframe tbody tr th:only-of-type {\n",
              "        vertical-align: middle;\n",
              "    }\n",
              "\n",
              "    .dataframe tbody tr th {\n",
              "        vertical-align: top;\n",
              "    }\n",
              "\n",
              "    .dataframe thead th {\n",
              "        text-align: right;\n",
              "    }\n",
              "</style>\n",
              "<table border=\"1\" class=\"dataframe\">\n",
              "  <thead>\n",
              "    <tr style=\"text-align: right;\">\n",
              "      <th></th>\n",
              "      <th>Unnamed: 0</th>\n",
              "      <th>ActivePower</th>\n",
              "      <th>AmbientTemperatue</th>\n",
              "      <th>BearingShaftTemperature</th>\n",
              "      <th>Blade1PitchAngle</th>\n",
              "      <th>Blade2PitchAngle</th>\n",
              "      <th>Blade3PitchAngle</th>\n",
              "      <th>ControlBoxTemperature</th>\n",
              "      <th>GearboxBearingTemperature</th>\n",
              "      <th>GearboxOilTemperature</th>\n",
              "      <th>GeneratorRPM</th>\n",
              "      <th>GeneratorWinding1Temperature</th>\n",
              "      <th>GeneratorWinding2Temperature</th>\n",
              "      <th>HubTemperature</th>\n",
              "      <th>MainBoxTemperature</th>\n",
              "      <th>NacellePosition</th>\n",
              "      <th>ReactivePower</th>\n",
              "      <th>RotorRPM</th>\n",
              "      <th>TurbineStatus</th>\n",
              "      <th>WTG</th>\n",
              "      <th>WindDirection</th>\n",
              "      <th>WindSpeed</th>\n",
              "    </tr>\n",
              "  </thead>\n",
              "  <tbody>\n",
              "    <tr>\n",
              "      <th>118219</th>\n",
              "      <td>2020-03-30 23:10:00+00:00</td>\n",
              "      <td>70.044465</td>\n",
              "      <td>27.523741</td>\n",
              "      <td>45.711129</td>\n",
              "      <td>1.515669</td>\n",
              "      <td>1.950088</td>\n",
              "      <td>1.950088</td>\n",
              "      <td>0.0</td>\n",
              "      <td>59.821165</td>\n",
              "      <td>55.193793</td>\n",
              "      <td>1029.870744</td>\n",
              "      <td>59.060367</td>\n",
              "      <td>58.148777</td>\n",
              "      <td>39.008931</td>\n",
              "      <td>36.476562</td>\n",
              "      <td>178.0</td>\n",
              "      <td>13.775785</td>\n",
              "      <td>9.234004</td>\n",
              "      <td>2.0</td>\n",
              "      <td>G01</td>\n",
              "      <td>178.0</td>\n",
              "      <td>3.533445</td>\n",
              "    </tr>\n",
              "    <tr>\n",
              "      <th>118220</th>\n",
              "      <td>2020-03-30 23:20:00+00:00</td>\n",
              "      <td>40.833474</td>\n",
              "      <td>27.602882</td>\n",
              "      <td>45.598573</td>\n",
              "      <td>1.702809</td>\n",
              "      <td>2.136732</td>\n",
              "      <td>2.136732</td>\n",
              "      <td>0.0</td>\n",
              "      <td>59.142038</td>\n",
              "      <td>54.798545</td>\n",
              "      <td>1030.160478</td>\n",
              "      <td>58.452003</td>\n",
              "      <td>57.550367</td>\n",
              "      <td>39.006759</td>\n",
              "      <td>36.328125</td>\n",
              "      <td>178.0</td>\n",
              "      <td>8.088928</td>\n",
              "      <td>9.229370</td>\n",
              "      <td>2.0</td>\n",
              "      <td>G01</td>\n",
              "      <td>178.0</td>\n",
              "      <td>3.261231</td>\n",
              "    </tr>\n",
              "    <tr>\n",
              "      <th>118221</th>\n",
              "      <td>2020-03-30 23:30:00+00:00</td>\n",
              "      <td>20.777790</td>\n",
              "      <td>27.560925</td>\n",
              "      <td>45.462045</td>\n",
              "      <td>1.706214</td>\n",
              "      <td>2.139664</td>\n",
              "      <td>2.139664</td>\n",
              "      <td>0.0</td>\n",
              "      <td>58.439439</td>\n",
              "      <td>54.380456</td>\n",
              "      <td>1030.137822</td>\n",
              "      <td>58.034071</td>\n",
              "      <td>57.099335</td>\n",
              "      <td>39.003815</td>\n",
              "      <td>36.131944</td>\n",
              "      <td>178.0</td>\n",
              "      <td>4.355978</td>\n",
              "      <td>9.236802</td>\n",
              "      <td>2.0</td>\n",
              "      <td>G01</td>\n",
              "      <td>178.0</td>\n",
              "      <td>3.331839</td>\n",
              "    </tr>\n",
              "    <tr>\n",
              "      <th>118222</th>\n",
              "      <td>2020-03-30 23:40:00+00:00</td>\n",
              "      <td>62.091039</td>\n",
              "      <td>27.810472</td>\n",
              "      <td>45.343827</td>\n",
              "      <td>1.575352</td>\n",
              "      <td>2.009781</td>\n",
              "      <td>2.009781</td>\n",
              "      <td>0.0</td>\n",
              "      <td>58.205413</td>\n",
              "      <td>54.079014</td>\n",
              "      <td>1030.178178</td>\n",
              "      <td>57.795387</td>\n",
              "      <td>56.847239</td>\n",
              "      <td>39.003815</td>\n",
              "      <td>36.007805</td>\n",
              "      <td>190.0</td>\n",
              "      <td>12.018077</td>\n",
              "      <td>9.237374</td>\n",
              "      <td>2.0</td>\n",
              "      <td>G01</td>\n",
              "      <td>190.0</td>\n",
              "      <td>3.284468</td>\n",
              "    </tr>\n",
              "    <tr>\n",
              "      <th>118223</th>\n",
              "      <td>2020-03-30 23:50:00+00:00</td>\n",
              "      <td>68.664425</td>\n",
              "      <td>27.915828</td>\n",
              "      <td>45.231610</td>\n",
              "      <td>1.499323</td>\n",
              "      <td>1.933124</td>\n",
              "      <td>1.933124</td>\n",
              "      <td>0.0</td>\n",
              "      <td>58.581716</td>\n",
              "      <td>54.080505</td>\n",
              "      <td>1029.834789</td>\n",
              "      <td>57.694813</td>\n",
              "      <td>56.741040</td>\n",
              "      <td>39.003815</td>\n",
              "      <td>35.914062</td>\n",
              "      <td>203.0</td>\n",
              "      <td>14.439669</td>\n",
              "      <td>9.235532</td>\n",
              "      <td>2.0</td>\n",
              "      <td>G01</td>\n",
              "      <td>203.0</td>\n",
              "      <td>3.475205</td>\n",
              "    </tr>\n",
              "  </tbody>\n",
              "</table>\n",
              "</div>"
            ],
            "text/plain": [
              "                       Unnamed: 0  ActivePower  ...  WindDirection  WindSpeed\n",
              "118219  2020-03-30 23:10:00+00:00    70.044465  ...          178.0   3.533445\n",
              "118220  2020-03-30 23:20:00+00:00    40.833474  ...          178.0   3.261231\n",
              "118221  2020-03-30 23:30:00+00:00    20.777790  ...          178.0   3.331839\n",
              "118222  2020-03-30 23:40:00+00:00    62.091039  ...          190.0   3.284468\n",
              "118223  2020-03-30 23:50:00+00:00    68.664425  ...          203.0   3.475205\n",
              "\n",
              "[5 rows x 22 columns]"
            ]
          },
          "metadata": {
            "tags": []
          },
          "execution_count": 13
        }
      ]
    },
    {
      "cell_type": "code",
      "metadata": {
        "colab": {
          "base_uri": "https://localhost:8080/",
          "height": 0
        },
        "id": "2F-TqKa3PYOl",
        "outputId": "15aa227b-cb9c-446c-b8d5-d0577dcaf869"
      },
      "source": [
        "df.info()"
      ],
      "execution_count": 14,
      "outputs": [
        {
          "output_type": "stream",
          "text": [
            "<class 'pandas.core.frame.DataFrame'>\n",
            "RangeIndex: 118224 entries, 0 to 118223\n",
            "Data columns (total 22 columns):\n",
            " #   Column                        Non-Null Count   Dtype  \n",
            "---  ------                        --------------   -----  \n",
            " 0   Unnamed: 0                    118224 non-null  object \n",
            " 1   ActivePower                   94750 non-null   float64\n",
            " 2   AmbientTemperatue             93817 non-null   float64\n",
            " 3   BearingShaftTemperature       62518 non-null   float64\n",
            " 4   Blade1PitchAngle              41996 non-null   float64\n",
            " 5   Blade2PitchAngle              41891 non-null   float64\n",
            " 6   Blade3PitchAngle              41891 non-null   float64\n",
            " 7   ControlBoxTemperature         62160 non-null   float64\n",
            " 8   GearboxBearingTemperature     62540 non-null   float64\n",
            " 9   GearboxOilTemperature         62438 non-null   float64\n",
            " 10  GeneratorRPM                  62295 non-null   float64\n",
            " 11  GeneratorWinding1Temperature  62427 non-null   float64\n",
            " 12  GeneratorWinding2Temperature  62449 non-null   float64\n",
            " 13  HubTemperature                62406 non-null   float64\n",
            " 14  MainBoxTemperature            62507 non-null   float64\n",
            " 15  NacellePosition               72278 non-null   float64\n",
            " 16  ReactivePower                 94748 non-null   float64\n",
            " 17  RotorRPM                      62127 non-null   float64\n",
            " 18  TurbineStatus                 62908 non-null   float64\n",
            " 19  WTG                           118224 non-null  object \n",
            " 20  WindDirection                 72278 non-null   float64\n",
            " 21  WindSpeed                     94595 non-null   float64\n",
            "dtypes: float64(20), object(2)\n",
            "memory usage: 19.8+ MB\n"
          ],
          "name": "stdout"
        }
      ]
    },
    {
      "cell_type": "code",
      "metadata": {
        "trusted": true,
        "colab": {
          "base_uri": "https://localhost:8080/",
          "height": 283
        },
        "id": "yDgDpeluNN1U",
        "outputId": "079a1655-54e6-441c-d4f4-6d63338eade5"
      },
      "source": [
        "ig, ax = plt.subplots()\n",
        "ax.scatter(df[\"Unnamed: 0\"][:1000], df[\"ActivePower\"][:1000])"
      ],
      "execution_count": 15,
      "outputs": [
        {
          "output_type": "execute_result",
          "data": {
            "text/plain": [
              "<matplotlib.collections.PathCollection at 0x7f8f56e09f90>"
            ]
          },
          "metadata": {
            "tags": []
          },
          "execution_count": 15
        },
        {
          "output_type": "display_data",
          "data": {
            "image/png": "[encoded data removed]",
            "text/plain": [
              "<Figure size 432x288 with 1 Axes>"
            ]
          },
          "metadata": {
            "tags": [],
            "needs_background": "light"
          }
        }
      ]
    },
    {
      "cell_type": "code",
      "metadata": {
        "trusted": true,
        "colab": {
          "base_uri": "https://localhost:8080/",
          "height": 283
        },
        "id": "BBFicpXiNN1V",
        "outputId": "5d93fc68-dc85-42d7-f9ee-809bc00109a4"
      },
      "source": [
        "df.ActivePower.plot.hist()"
      ],
      "execution_count": 16,
      "outputs": [
        {
          "output_type": "execute_result",
          "data": {
            "text/plain": [
              "<matplotlib.axes._subplots.AxesSubplot at 0x7f8f55964650>"
            ]
          },
          "metadata": {
            "tags": []
          },
          "execution_count": 16
        },
        {
          "output_type": "display_data",
          "data": {
            "image/png": "[encoded data removed]",
            "text/plain": [
              "<Figure size 432x288 with 1 Axes>"
            ]
          },
          "metadata": {
            "tags": [],
            "needs_background": "light"
          }
        }
      ]
    },
    {
      "cell_type": "markdown",
      "metadata": {
        "id": "9ILRRgc5NN1V"
      },
      "source": [
        "## Parsing dates\n",
        "When working with time series data, it's a good idea to make sure any date data is the format of a datetime object (a Python data type which encodes specific information about dates)."
      ]
    },
    {
      "cell_type": "code",
      "metadata": {
        "trusted": true,
        "id": "7C5eEY47NN1V"
      },
      "source": [
        "df = pd.read_csv('Turbine_Data.csv',\n",
        "                 low_memory=False,\n",
        "                 parse_dates=[\"Unnamed: 0\"])"
      ],
      "execution_count": 18,
      "outputs": []
    },
    {
      "cell_type": "code",
      "metadata": {
        "trusted": true,
        "colab": {
          "base_uri": "https://localhost:8080/",
          "height": 0
        },
        "id": "TBD4a_wTNN1W",
        "outputId": "7cc88d79-5ba2-48fe-c4bf-085647733411"
      },
      "source": [
        "# With parse_dates... check dtype of \"Unnamed: 0\"\n",
        "df.info()"
      ],
      "execution_count": 19,
      "outputs": [
        {
          "output_type": "stream",
          "text": [
            "<class 'pandas.core.frame.DataFrame'>\n",
            "RangeIndex: 118224 entries, 0 to 118223\n",
            "Data columns (total 22 columns):\n",
            " #   Column                        Non-Null Count   Dtype              \n",
            "---  ------                        --------------   -----              \n",
            " 0   Unnamed: 0                    118224 non-null  datetime64[ns, UTC]\n",
            " 1   ActivePower                   94750 non-null   float64            \n",
            " 2   AmbientTemperatue             93817 non-null   float64            \n",
            " 3   BearingShaftTemperature       62518 non-null   float64            \n",
            " 4   Blade1PitchAngle              41996 non-null   float64            \n",
            " 5   Blade2PitchAngle              41891 non-null   float64            \n",
            " 6   Blade3PitchAngle              41891 non-null   float64            \n",
            " 7   ControlBoxTemperature         62160 non-null   float64            \n",
            " 8   GearboxBearingTemperature     62540 non-null   float64            \n",
            " 9   GearboxOilTemperature         62438 non-null   float64            \n",
            " 10  GeneratorRPM                  62295 non-null   float64            \n",
            " 11  GeneratorWinding1Temperature  62427 non-null   float64            \n",
            " 12  GeneratorWinding2Temperature  62449 non-null   float64            \n",
            " 13  HubTemperature                62406 non-null   float64            \n",
            " 14  MainBoxTemperature            62507 non-null   float64            \n",
            " 15  NacellePosition               72278 non-null   float64            \n",
            " 16  ReactivePower                 94748 non-null   float64            \n",
            " 17  RotorRPM                      62127 non-null   float64            \n",
            " 18  TurbineStatus                 62908 non-null   float64            \n",
            " 19  WTG                           118224 non-null  object             \n",
            " 20  WindDirection                 72278 non-null   float64            \n",
            " 21  WindSpeed                     94595 non-null   float64            \n",
            "dtypes: datetime64[ns, UTC](1), float64(20), object(1)\n",
            "memory usage: 19.8+ MB\n"
          ],
          "name": "stdout"
        }
      ]
    },
    {
      "cell_type": "code",
      "metadata": {
        "trusted": true,
        "id": "33W4TkayNN1W"
      },
      "source": [
        "# duplicate the date column to change it's name \n",
        "df['DateTime'] = df['Unnamed: 0'] \n",
        "df.drop('Unnamed: 0', axis=1, inplace=True)"
      ],
      "execution_count": 20,
      "outputs": []
    },
    {
      "cell_type": "code",
      "metadata": {
        "trusted": true,
        "colab": {
          "base_uri": "https://localhost:8080/",
          "height": 0
        },
        "id": "5Ea0bQJdNN1W",
        "outputId": "3c6a6db4-2b9d-4bf0-91eb-8be4cae002cc"
      },
      "source": [
        "df['DateTime'].head(20)"
      ],
      "execution_count": 21,
      "outputs": [
        {
          "output_type": "execute_result",
          "data": {
            "text/plain": [
              "0    2017-12-31 00:00:00+00:00\n",
              "1    2017-12-31 00:10:00+00:00\n",
              "2    2017-12-31 00:20:00+00:00\n",
              "3    2017-12-31 00:30:00+00:00\n",
              "4    2017-12-31 00:40:00+00:00\n",
              "5    2017-12-31 00:50:00+00:00\n",
              "6    2017-12-31 01:00:00+00:00\n",
              "7    2017-12-31 01:10:00+00:00\n",
              "8    2017-12-31 01:20:00+00:00\n",
              "9    2017-12-31 01:30:00+00:00\n",
              "10   2017-12-31 01:40:00+00:00\n",
              "11   2017-12-31 01:50:00+00:00\n",
              "12   2017-12-31 02:00:00+00:00\n",
              "13   2017-12-31 02:10:00+00:00\n",
              "14   2017-12-31 02:20:00+00:00\n",
              "15   2017-12-31 02:30:00+00:00\n",
              "16   2017-12-31 02:40:00+00:00\n",
              "17   2017-12-31 02:50:00+00:00\n",
              "18   2017-12-31 03:00:00+00:00\n",
              "19   2017-12-31 03:10:00+00:00\n",
              "Name: DateTime, dtype: datetime64[ns, UTC]"
            ]
          },
          "metadata": {
            "tags": []
          },
          "execution_count": 21
        }
      ]
    },
    {
      "cell_type": "code",
      "metadata": {
        "trusted": true,
        "id": "ghHinBByNN1W"
      },
      "source": [
        "# Add datetime parameters \n",
        "df['DateTime'] = pd.to_datetime(df['DateTime'], \n",
        " format = '%Y-%m-%dT%H:%M:%SZ', \n",
        " errors = 'coerce')\n",
        "\n",
        "df['year'] = df['DateTime'].dt.year\n",
        "df['month'] = df['DateTime'].dt.month\n",
        "df['day'] = df['DateTime'].dt.day\n",
        "df['hour'] = df['DateTime'].dt.hour\n",
        "df['minute'] = df['DateTime'].dt.minute"
      ],
      "execution_count": 22,
      "outputs": []
    },
    {
      "cell_type": "code",
      "metadata": {
        "trusted": true,
        "id": "di_CV8MgNN1X"
      },
      "source": [
        "# Drop original DateTime column\n",
        "df.drop('DateTime', axis=1, inplace= True)"
      ],
      "execution_count": 23,
      "outputs": []
    },
    {
      "cell_type": "code",
      "metadata": {
        "trusted": true,
        "colab": {
          "base_uri": "https://localhost:8080/",
          "height": 439
        },
        "id": "JNj4HrVZNN1X",
        "outputId": "64332cd6-f7b0-44d3-f20d-dee409a2e2e3"
      },
      "source": [
        "df"
      ],
      "execution_count": 24,
      "outputs": [
        {
          "output_type": "execute_result",
          "data": {
            "text/html": [
              "<div>\n",
              "<style scoped>\n",
              "    .dataframe tbody tr th:only-of-type {\n",
              "        vertical-align: middle;\n",
              "    }\n",
              "\n",
              "    .dataframe tbody tr th {\n",
              "        vertical-align: top;\n",
              "    }\n",
              "\n",
              "    .dataframe thead th {\n",
              "        text-align: right;\n",
              "    }\n",
              "</style>\n",
              "<table border=\"1\" class=\"dataframe\">\n",
              "  <thead>\n",
              "    <tr style=\"text-align: right;\">\n",
              "      <th></th>\n",
              "      <th>ActivePower</th>\n",
              "      <th>AmbientTemperatue</th>\n",
              "      <th>BearingShaftTemperature</th>\n",
              "      <th>Blade1PitchAngle</th>\n",
              "      <th>Blade2PitchAngle</th>\n",
              "      <th>Blade3PitchAngle</th>\n",
              "      <th>ControlBoxTemperature</th>\n",
              "      <th>GearboxBearingTemperature</th>\n",
              "      <th>GearboxOilTemperature</th>\n",
              "      <th>GeneratorRPM</th>\n",
              "      <th>GeneratorWinding1Temperature</th>\n",
              "      <th>GeneratorWinding2Temperature</th>\n",
              "      <th>HubTemperature</th>\n",
              "      <th>MainBoxTemperature</th>\n",
              "      <th>NacellePosition</th>\n",
              "      <th>ReactivePower</th>\n",
              "      <th>RotorRPM</th>\n",
              "      <th>TurbineStatus</th>\n",
              "      <th>WTG</th>\n",
              "      <th>WindDirection</th>\n",
              "      <th>WindSpeed</th>\n",
              "      <th>year</th>\n",
              "      <th>month</th>\n",
              "      <th>day</th>\n",
              "      <th>hour</th>\n",
              "      <th>minute</th>\n",
              "    </tr>\n",
              "  </thead>\n",
              "  <tbody>\n",
              "    <tr>\n",
              "      <th>0</th>\n",
              "      <td>NaN</td>\n",
              "      <td>NaN</td>\n",
              "      <td>NaN</td>\n",
              "      <td>NaN</td>\n",
              "      <td>NaN</td>\n",
              "      <td>NaN</td>\n",
              "      <td>NaN</td>\n",
              "      <td>NaN</td>\n",
              "      <td>NaN</td>\n",
              "      <td>NaN</td>\n",
              "      <td>NaN</td>\n",
              "      <td>NaN</td>\n",
              "      <td>NaN</td>\n",
              "      <td>NaN</td>\n",
              "      <td>NaN</td>\n",
              "      <td>NaN</td>\n",
              "      <td>NaN</td>\n",
              "      <td>NaN</td>\n",
              "      <td>G01</td>\n",
              "      <td>NaN</td>\n",
              "      <td>NaN</td>\n",
              "      <td>2017</td>\n",
              "      <td>12</td>\n",
              "      <td>31</td>\n",
              "      <td>0</td>\n",
              "      <td>0</td>\n",
              "    </tr>\n",
              "    <tr>\n",
              "      <th>1</th>\n",
              "      <td>NaN</td>\n",
              "      <td>NaN</td>\n",
              "      <td>NaN</td>\n",
              "      <td>NaN</td>\n",
              "      <td>NaN</td>\n",
              "      <td>NaN</td>\n",
              "      <td>NaN</td>\n",
              "      <td>NaN</td>\n",
              "      <td>NaN</td>\n",
              "      <td>NaN</td>\n",
              "      <td>NaN</td>\n",
              "      <td>NaN</td>\n",
              "      <td>NaN</td>\n",
              "      <td>NaN</td>\n",
              "      <td>NaN</td>\n",
              "      <td>NaN</td>\n",
              "      <td>NaN</td>\n",
              "      <td>NaN</td>\n",
              "      <td>G01</td>\n",
              "      <td>NaN</td>\n",
              "      <td>NaN</td>\n",
              "      <td>2017</td>\n",
              "      <td>12</td>\n",
              "      <td>31</td>\n",
              "      <td>0</td>\n",
              "      <td>10</td>\n",
              "    </tr>\n",
              "    <tr>\n",
              "      <th>2</th>\n",
              "      <td>NaN</td>\n",
              "      <td>NaN</td>\n",
              "      <td>NaN</td>\n",
              "      <td>NaN</td>\n",
              "      <td>NaN</td>\n",
              "      <td>NaN</td>\n",
              "      <td>NaN</td>\n",
              "      <td>NaN</td>\n",
              "      <td>NaN</td>\n",
              "      <td>NaN</td>\n",
              "      <td>NaN</td>\n",
              "      <td>NaN</td>\n",
              "      <td>NaN</td>\n",
              "      <td>NaN</td>\n",
              "      <td>NaN</td>\n",
              "      <td>NaN</td>\n",
              "      <td>NaN</td>\n",
              "      <td>NaN</td>\n",
              "      <td>G01</td>\n",
              "      <td>NaN</td>\n",
              "      <td>NaN</td>\n",
              "      <td>2017</td>\n",
              "      <td>12</td>\n",
              "      <td>31</td>\n",
              "      <td>0</td>\n",
              "      <td>20</td>\n",
              "    </tr>\n",
              "    <tr>\n",
              "      <th>3</th>\n",
              "      <td>NaN</td>\n",
              "      <td>NaN</td>\n",
              "      <td>NaN</td>\n",
              "      <td>NaN</td>\n",
              "      <td>NaN</td>\n",
              "      <td>NaN</td>\n",
              "      <td>NaN</td>\n",
              "      <td>NaN</td>\n",
              "      <td>NaN</td>\n",
              "      <td>NaN</td>\n",
              "      <td>NaN</td>\n",
              "      <td>NaN</td>\n",
              "      <td>NaN</td>\n",
              "      <td>NaN</td>\n",
              "      <td>NaN</td>\n",
              "      <td>NaN</td>\n",
              "      <td>NaN</td>\n",
              "      <td>NaN</td>\n",
              "      <td>G01</td>\n",
              "      <td>NaN</td>\n",
              "      <td>NaN</td>\n",
              "      <td>2017</td>\n",
              "      <td>12</td>\n",
              "      <td>31</td>\n",
              "      <td>0</td>\n",
              "      <td>30</td>\n",
              "    </tr>\n",
              "    <tr>\n",
              "      <th>4</th>\n",
              "      <td>NaN</td>\n",
              "      <td>NaN</td>\n",
              "      <td>NaN</td>\n",
              "      <td>NaN</td>\n",
              "      <td>NaN</td>\n",
              "      <td>NaN</td>\n",
              "      <td>NaN</td>\n",
              "      <td>NaN</td>\n",
              "      <td>NaN</td>\n",
              "      <td>NaN</td>\n",
              "      <td>NaN</td>\n",
              "      <td>NaN</td>\n",
              "      <td>NaN</td>\n",
              "      <td>NaN</td>\n",
              "      <td>NaN</td>\n",
              "      <td>NaN</td>\n",
              "      <td>NaN</td>\n",
              "      <td>NaN</td>\n",
              "      <td>G01</td>\n",
              "      <td>NaN</td>\n",
              "      <td>NaN</td>\n",
              "      <td>2017</td>\n",
              "      <td>12</td>\n",
              "      <td>31</td>\n",
              "      <td>0</td>\n",
              "      <td>40</td>\n",
              "    </tr>\n",
              "    <tr>\n",
              "      <th>...</th>\n",
              "      <td>...</td>\n",
              "      <td>...</td>\n",
              "      <td>...</td>\n",
              "      <td>...</td>\n",
              "      <td>...</td>\n",
              "      <td>...</td>\n",
              "      <td>...</td>\n",
              "      <td>...</td>\n",
              "      <td>...</td>\n",
              "      <td>...</td>\n",
              "      <td>...</td>\n",
              "      <td>...</td>\n",
              "      <td>...</td>\n",
              "      <td>...</td>\n",
              "      <td>...</td>\n",
              "      <td>...</td>\n",
              "      <td>...</td>\n",
              "      <td>...</td>\n",
              "      <td>...</td>\n",
              "      <td>...</td>\n",
              "      <td>...</td>\n",
              "      <td>...</td>\n",
              "      <td>...</td>\n",
              "      <td>...</td>\n",
              "      <td>...</td>\n",
              "      <td>...</td>\n",
              "    </tr>\n",
              "    <tr>\n",
              "      <th>118219</th>\n",
              "      <td>70.044465</td>\n",
              "      <td>27.523741</td>\n",
              "      <td>45.711129</td>\n",
              "      <td>1.515669</td>\n",
              "      <td>1.950088</td>\n",
              "      <td>1.950088</td>\n",
              "      <td>0.0</td>\n",
              "      <td>59.821165</td>\n",
              "      <td>55.193793</td>\n",
              "      <td>1029.870744</td>\n",
              "      <td>59.060367</td>\n",
              "      <td>58.148777</td>\n",
              "      <td>39.008931</td>\n",
              "      <td>36.476562</td>\n",
              "      <td>178.0</td>\n",
              "      <td>13.775785</td>\n",
              "      <td>9.234004</td>\n",
              "      <td>2.0</td>\n",
              "      <td>G01</td>\n",
              "      <td>178.0</td>\n",
              "      <td>3.533445</td>\n",
              "      <td>2020</td>\n",
              "      <td>3</td>\n",
              "      <td>30</td>\n",
              "      <td>23</td>\n",
              "      <td>10</td>\n",
              "    </tr>\n",
              "    <tr>\n",
              "      <th>118220</th>\n",
              "      <td>40.833474</td>\n",
              "      <td>27.602882</td>\n",
              "      <td>45.598573</td>\n",
              "      <td>1.702809</td>\n",
              "      <td>2.136732</td>\n",
              "      <td>2.136732</td>\n",
              "      <td>0.0</td>\n",
              "      <td>59.142038</td>\n",
              "      <td>54.798545</td>\n",
              "      <td>1030.160478</td>\n",
              "      <td>58.452003</td>\n",
              "      <td>57.550367</td>\n",
              "      <td>39.006759</td>\n",
              "      <td>36.328125</td>\n",
              "      <td>178.0</td>\n",
              "      <td>8.088928</td>\n",
              "      <td>9.229370</td>\n",
              "      <td>2.0</td>\n",
              "      <td>G01</td>\n",
              "      <td>178.0</td>\n",
              "      <td>3.261231</td>\n",
              "      <td>2020</td>\n",
              "      <td>3</td>\n",
              "      <td>30</td>\n",
              "      <td>23</td>\n",
              "      <td>20</td>\n",
              "    </tr>\n",
              "    <tr>\n",
              "      <th>118221</th>\n",
              "      <td>20.777790</td>\n",
              "      <td>27.560925</td>\n",
              "      <td>45.462045</td>\n",
              "      <td>1.706214</td>\n",
              "      <td>2.139664</td>\n",
              "      <td>2.139664</td>\n",
              "      <td>0.0</td>\n",
              "      <td>58.439439</td>\n",
              "      <td>54.380456</td>\n",
              "      <td>1030.137822</td>\n",
              "      <td>58.034071</td>\n",
              "      <td>57.099335</td>\n",
              "      <td>39.003815</td>\n",
              "      <td>36.131944</td>\n",
              "      <td>178.0</td>\n",
              "      <td>4.355978</td>\n",
              "      <td>9.236802</td>\n",
              "      <td>2.0</td>\n",
              "      <td>G01</td>\n",
              "      <td>178.0</td>\n",
              "      <td>3.331839</td>\n",
              "      <td>2020</td>\n",
              "      <td>3</td>\n",
              "      <td>30</td>\n",
              "      <td>23</td>\n",
              "      <td>30</td>\n",
              "    </tr>\n",
              "    <tr>\n",
              "      <th>118222</th>\n",
              "      <td>62.091039</td>\n",
              "      <td>27.810472</td>\n",
              "      <td>45.343827</td>\n",
              "      <td>1.575352</td>\n",
              "      <td>2.009781</td>\n",
              "      <td>2.009781</td>\n",
              "      <td>0.0</td>\n",
              "      <td>58.205413</td>\n",
              "      <td>54.079014</td>\n",
              "      <td>1030.178178</td>\n",
              "      <td>57.795387</td>\n",
              "      <td>56.847239</td>\n",
              "      <td>39.003815</td>\n",
              "      <td>36.007805</td>\n",
              "      <td>190.0</td>\n",
              "      <td>12.018077</td>\n",
              "      <td>9.237374</td>\n",
              "      <td>2.0</td>\n",
              "      <td>G01</td>\n",
              "      <td>190.0</td>\n",
              "      <td>3.284468</td>\n",
              "      <td>2020</td>\n",
              "      <td>3</td>\n",
              "      <td>30</td>\n",
              "      <td>23</td>\n",
              "      <td>40</td>\n",
              "    </tr>\n",
              "    <tr>\n",
              "      <th>118223</th>\n",
              "      <td>68.664425</td>\n",
              "      <td>27.915828</td>\n",
              "      <td>45.231610</td>\n",
              "      <td>1.499323</td>\n",
              "      <td>1.933124</td>\n",
              "      <td>1.933124</td>\n",
              "      <td>0.0</td>\n",
              "      <td>58.581716</td>\n",
              "      <td>54.080505</td>\n",
              "      <td>1029.834789</td>\n",
              "      <td>57.694813</td>\n",
              "      <td>56.741040</td>\n",
              "      <td>39.003815</td>\n",
              "      <td>35.914062</td>\n",
              "      <td>203.0</td>\n",
              "      <td>14.439669</td>\n",
              "      <td>9.235532</td>\n",
              "      <td>2.0</td>\n",
              "      <td>G01</td>\n",
              "      <td>203.0</td>\n",
              "      <td>3.475205</td>\n",
              "      <td>2020</td>\n",
              "      <td>3</td>\n",
              "      <td>30</td>\n",
              "      <td>23</td>\n",
              "      <td>50</td>\n",
              "    </tr>\n",
              "  </tbody>\n",
              "</table>\n",
              "<p>118224 rows × 26 columns</p>\n",
              "</div>"
            ],
            "text/plain": [
              "        ActivePower  AmbientTemperatue  ...  hour  minute\n",
              "0               NaN                NaN  ...     0       0\n",
              "1               NaN                NaN  ...     0      10\n",
              "2               NaN                NaN  ...     0      20\n",
              "3               NaN                NaN  ...     0      30\n",
              "4               NaN                NaN  ...     0      40\n",
              "...             ...                ...  ...   ...     ...\n",
              "118219    70.044465          27.523741  ...    23      10\n",
              "118220    40.833474          27.602882  ...    23      20\n",
              "118221    20.777790          27.560925  ...    23      30\n",
              "118222    62.091039          27.810472  ...    23      40\n",
              "118223    68.664425          27.915828  ...    23      50\n",
              "\n",
              "[118224 rows x 26 columns]"
            ]
          },
          "metadata": {
            "tags": []
          },
          "execution_count": 24
        }
      ]
    },
    {
      "cell_type": "code",
      "metadata": {
        "trusted": true,
        "colab": {
          "base_uri": "https://localhost:8080/",
          "height": 0
        },
        "id": "AEVVtyt1NN1X",
        "outputId": "6971fa79-a237-46ba-9368-4449a83de8fe"
      },
      "source": [
        "df.isna().sum()"
      ],
      "execution_count": 25,
      "outputs": [
        {
          "output_type": "execute_result",
          "data": {
            "text/plain": [
              "ActivePower                     23474\n",
              "AmbientTemperatue               24407\n",
              "BearingShaftTemperature         55706\n",
              "Blade1PitchAngle                76228\n",
              "Blade2PitchAngle                76333\n",
              "Blade3PitchAngle                76333\n",
              "ControlBoxTemperature           56064\n",
              "GearboxBearingTemperature       55684\n",
              "GearboxOilTemperature           55786\n",
              "GeneratorRPM                    55929\n",
              "GeneratorWinding1Temperature    55797\n",
              "GeneratorWinding2Temperature    55775\n",
              "HubTemperature                  55818\n",
              "MainBoxTemperature              55717\n",
              "NacellePosition                 45946\n",
              "ReactivePower                   23476\n",
              "RotorRPM                        56097\n",
              "TurbineStatus                   55316\n",
              "WTG                                 0\n",
              "WindDirection                   45946\n",
              "WindSpeed                       23629\n",
              "year                                0\n",
              "month                               0\n",
              "day                                 0\n",
              "hour                                0\n",
              "minute                              0\n",
              "dtype: int64"
            ]
          },
          "metadata": {
            "tags": []
          },
          "execution_count": 25
        }
      ]
    },
    {
      "cell_type": "code",
      "metadata": {
        "trusted": true,
        "id": "ct5Zln4TNN1X"
      },
      "source": [
        "# Fill numeric rows with the median\n",
        "for label, content in df.items():\n",
        "    if pd.api.types.is_numeric_dtype(content):\n",
        "        if pd.isnull(content).sum():\n",
        "            # Add a binary column which tells if the data was missing our not\n",
        "            df[label+\"_is_missing\"] = pd.isnull(content)\n",
        "            # Fill missing numeric values with median since it's more robust than the mean\n",
        "            df[label] = content.fillna(content.median())"
      ],
      "execution_count": 26,
      "outputs": []
    },
    {
      "cell_type": "code",
      "metadata": {
        "trusted": true,
        "colab": {
          "base_uri": "https://localhost:8080/",
          "height": 0
        },
        "id": "cGXGKcDcNN1Y",
        "outputId": "e5933dad-bdb6-4aec-b999-b5e111532da8"
      },
      "source": [
        "df.isna().sum()"
      ],
      "execution_count": 27,
      "outputs": [
        {
          "output_type": "execute_result",
          "data": {
            "text/plain": [
              "ActivePower                                0\n",
              "AmbientTemperatue                          0\n",
              "BearingShaftTemperature                    0\n",
              "Blade1PitchAngle                           0\n",
              "Blade2PitchAngle                           0\n",
              "Blade3PitchAngle                           0\n",
              "ControlBoxTemperature                      0\n",
              "GearboxBearingTemperature                  0\n",
              "GearboxOilTemperature                      0\n",
              "GeneratorRPM                               0\n",
              "GeneratorWinding1Temperature               0\n",
              "GeneratorWinding2Temperature               0\n",
              "HubTemperature                             0\n",
              "MainBoxTemperature                         0\n",
              "NacellePosition                            0\n",
              "ReactivePower                              0\n",
              "RotorRPM                                   0\n",
              "TurbineStatus                              0\n",
              "WTG                                        0\n",
              "WindDirection                              0\n",
              "WindSpeed                                  0\n",
              "year                                       0\n",
              "month                                      0\n",
              "day                                        0\n",
              "hour                                       0\n",
              "minute                                     0\n",
              "ActivePower_is_missing                     0\n",
              "AmbientTemperatue_is_missing               0\n",
              "BearingShaftTemperature_is_missing         0\n",
              "Blade1PitchAngle_is_missing                0\n",
              "Blade2PitchAngle_is_missing                0\n",
              "Blade3PitchAngle_is_missing                0\n",
              "ControlBoxTemperature_is_missing           0\n",
              "GearboxBearingTemperature_is_missing       0\n",
              "GearboxOilTemperature_is_missing           0\n",
              "GeneratorRPM_is_missing                    0\n",
              "GeneratorWinding1Temperature_is_missing    0\n",
              "GeneratorWinding2Temperature_is_missing    0\n",
              "HubTemperature_is_missing                  0\n",
              "MainBoxTemperature_is_missing              0\n",
              "NacellePosition_is_missing                 0\n",
              "ReactivePower_is_missing                   0\n",
              "RotorRPM_is_missing                        0\n",
              "TurbineStatus_is_missing                   0\n",
              "WindDirection_is_missing                   0\n",
              "WindSpeed_is_missing                       0\n",
              "dtype: int64"
            ]
          },
          "metadata": {
            "tags": []
          },
          "execution_count": 27
        }
      ]
    },
    {
      "cell_type": "code",
      "metadata": {
        "trusted": true,
        "id": "x-vjfYR2NN1Y"
      },
      "source": [
        "# Turn categorical variables into numbers\n",
        "for label, content in df.items():\n",
        "    # Check columns which aren't numeric\n",
        "    if not pd.api.types.is_numeric_dtype(content):\n",
        "        # Add binary column to inidicate whether sample had missing value\n",
        "        df[label+\"_is_missing\"] = pd.isnull(content)\n",
        "        # We add the +1 because pandas encodes missing categories as -1\n",
        "        df[label] = pd.Categorical(content).codes+1"
      ],
      "execution_count": 28,
      "outputs": []
    },
    {
      "cell_type": "code",
      "metadata": {
        "trusted": true,
        "colab": {
          "base_uri": "https://localhost:8080/",
          "height": 0
        },
        "id": "1yRwpYNdNN1Y",
        "outputId": "d077a6a6-b5a5-411b-e287-4704152f7215"
      },
      "source": [
        "### Testing For Stationarity\n",
        "\n",
        "from statsmodels.tsa.stattools import adfuller\n",
        "test_result=adfuller(df['ActivePower'])\n",
        "#Ho: It is non stationary\n",
        "#H1: It is stationary\n",
        "\n",
        "def adfuller_test(Power):\n",
        "    result=adfuller(Power)\n",
        "    labels = ['ADF Test Statistic','p-value','#Lags Used','Number of Observations Used']\n",
        "    for value,label in zip(result,labels):\n",
        "        print(label+' : '+str(value) )\n",
        "    if result[1] <= 0.05:\n",
        "        print(\"strong evidence against the null hypothesis(Ho), reject the null hypothesis. Data has no unit root and is stationary\")\n",
        "    else:\n",
        "        print(\"weak evidence against null hypothesis, time series has a unit root, indicating it is non-stationary \")\n",
        "        \n",
        "adfuller_test(df['ActivePower'])"
      ],
      "execution_count": 29,
      "outputs": [
        {
          "output_type": "stream",
          "text": [
            "/usr/local/lib/python3.7/dist-packages/statsmodels/tools/_testing.py:19: FutureWarning: pandas.util.testing is deprecated. Use the functions in the public API at pandas.testing instead.\n",
            "  import pandas.util.testing as tm\n"
          ],
          "name": "stderr"
        },
        {
          "output_type": "stream",
          "text": [
            "ADF Test Statistic : -21.00166405825862\n",
            "p-value : 0.0\n",
            "#Lags Used : 71\n",
            "Number of Observations Used : 118152\n",
            "strong evidence against the null hypothesis(Ho), reject the null hypothesis. Data has no unit root and is stationary\n"
          ],
          "name": "stdout"
        }
      ]
    },
    {
      "cell_type": "code",
      "metadata": {
        "trusted": true,
        "colab": {
          "base_uri": "https://localhost:8080/",
          "height": 0
        },
        "id": "SyizPAIjNN1Z",
        "outputId": "23dbf248-e869-4b1f-adb9-f551589845a5"
      },
      "source": [
        "# Import libraries required \n",
        "import pandas as pd\n",
        "from pandas import Series\n",
        "import numpy as np\n",
        "import datetime\n",
        "from pandas_datareader import data as pdr\n",
        "import matplotlib.pyplot as plt\n",
        "\n",
        "import seaborn\n",
        "from fbprophet import Prophet\n",
        "import statsmodels.api as sm\n",
        "import statsmodels.tsa as ts\n",
        "from statsmodels.tsa.arima_model import ARIMA\n",
        "from statsmodels.tsa.arima_model import ARIMAResults\n",
        "from sklearn.neural_network import MLPRegressor\n",
        "from sklearn.metrics import scorer\n",
        "from sklearn.metrics import accuracy_score\n",
        "from sklearn.metrics import mean_squared_error\n",
        "from sklearn.metrics import r2_score\n",
        "from matplotlib import pyplot\n",
        "import itertools as it\n",
        "from matplotlib import mlab"
      ],
      "execution_count": 30,
      "outputs": [
        {
          "output_type": "stream",
          "text": [
            "/usr/local/lib/python3.7/dist-packages/sklearn/utils/deprecation.py:144: FutureWarning:\n",
            "\n",
            "The sklearn.metrics.scorer module is  deprecated in version 0.22 and will be removed in version 0.24. The corresponding classes / functions should instead be imported from sklearn.metrics. Anything that cannot be imported from sklearn.metrics is now part of the private API.\n",
            "\n"
          ],
          "name": "stderr"
        }
      ]
    },
    {
      "cell_type": "code",
      "metadata": {
        "trusted": true,
        "colab": {
          "base_uri": "https://localhost:8080/",
          "height": 404
        },
        "id": "NQhRUnGKNN1Z",
        "outputId": "8aeb3403-a101-4f03-9eb3-c9030ea9ad28"
      },
      "source": [
        "#Analysis of ACF and PACF on Close Price\n",
        "fig = plt.figure(figsize=(10,6))\n",
        "ax1 = fig.add_subplot(211)\n",
        "fig = sm.graphics.tsa.plot_acf(df['ActivePower'], lags=30, ax=ax1)\n",
        "ax2 = fig.add_subplot(212)\n",
        "fig = sm.graphics.tsa.plot_pacf(df['ActivePower'], lags=30, ax=ax2)\n",
        "plt.xlabel('Time lag')\n",
        "plt.show()"
      ],
      "execution_count": 31,
      "outputs": [
        {
          "output_type": "display_data",
          "data": {
            "image/png": "[encoded data removed]",
            "text/plain": [
              "<Figure size 720x432 with 2 Axes>"
            ]
          },
          "metadata": {
            "tags": [],
            "needs_background": "light"
          }
        }
      ]
    },
    {
      "cell_type": "code",
      "metadata": {
        "trusted": true,
        "colab": {
          "base_uri": "https://localhost:8080/",
          "height": 404
        },
        "id": "iQDx7vNqNN1Z",
        "outputId": "706ca856-534b-43f6-9987-12cad80094fb"
      },
      "source": [
        "#Analysis of ACF and PACF on differece Close Price\n",
        "fig = plt.figure(figsize=(10,6))\n",
        "ax1 = fig.add_subplot(211)\n",
        "fig = sm.graphics.tsa.plot_acf(df['ActivePower'].diff().dropna(), lags=30, ax=ax1)\n",
        "ax2 = fig.add_subplot(212)\n",
        "fig = sm.graphics.tsa.plot_pacf(df['ActivePower'].diff().dropna(), lags=30, ax=ax2)\n",
        "plt.xlabel('Time lag')\n",
        "plt.show()"
      ],
      "execution_count": 32,
      "outputs": [
        {
          "output_type": "display_data",
          "data": {
            "image/png": "[encoded data removed]",
            "text/plain": [
              "<Figure size 720x432 with 2 Axes>"
            ]
          },
          "metadata": {
            "tags": [],
            "needs_background": "light"
          }
        }
      ]
    },
    {
      "cell_type": "markdown",
      "metadata": {
        "id": "OsCjvn5BNN1Z"
      },
      "source": [
        "### Modelling"
      ]
    },
    {
      "cell_type": "code",
      "metadata": {
        "trusted": true,
        "id": "M-_yARxnNN1a"
      },
      "source": [
        "from statsmodels.tsa.arima_model import ARIMA\n",
        "model=ARIMA(df['ActivePower'][:5000],order=(2,0,3))\n",
        "model_fit=model.fit()"
      ],
      "execution_count": 33,
      "outputs": []
    },
    {
      "cell_type": "code",
      "metadata": {
        "trusted": true,
        "colab": {
          "base_uri": "https://localhost:8080/",
          "height": 281
        },
        "id": "JakDw-x5NN1a",
        "outputId": "164bb88a-ca54-4222-b261-a53ab540e47b"
      },
      "source": [
        "# Plot residual errors\n",
        "residuals = pd.DataFrame(model_fit.resid)\n",
        "fig, ax = plt.subplots(1,2)\n",
        "residuals.plot(title=\"Residuals\", ax=ax[0])\n",
        "residuals.plot(kind='kde', title='Density', ax=ax[1])\n",
        "plt.show()"
      ],
      "execution_count": 34,
      "outputs": [
        {
          "output_type": "display_data",
          "data": {
            "image/png": "[encoded data removed]",
            "text/plain": [
              "<Figure size 432x288 with 2 Axes>"
            ]
          },
          "metadata": {
            "tags": [],
            "needs_background": "light"
          }
        }
      ]
    },
    {
      "cell_type": "code",
      "metadata": {
        "trusted": true,
        "colab": {
          "base_uri": "https://localhost:8080/",
          "height": 265
        },
        "id": "0CGzGlCjNN1a",
        "outputId": "8265ccc1-f5cb-4d8f-813c-4dd2ad8d3041"
      },
      "source": [
        "# Actual vs Fitted\n",
        "model_fit.plot_predict(dynamic=False )\n",
        "plt.show()"
      ],
      "execution_count": 35,
      "outputs": [
        {
          "output_type": "display_data",
          "data": {
            "image/png": "[encoded data removed]",
            "text/plain": [
              "<Figure size 432x288 with 1 Axes>"
            ]
          },
          "metadata": {
            "tags": [],
            "needs_background": "light"
          }
        }
      ]
    },
    {
      "cell_type": "code",
      "metadata": {
        "trusted": true,
        "id": "SWJzfxLVNN1a"
      },
      "source": [
        "# splitting data into test and train datasets\n",
        "from sklearn.model_selection import train_test_split\n",
        "train = df['ActivePower'][:1000]\n",
        "test = df['ActivePower'][1000:1015]"
      ],
      "execution_count": 36,
      "outputs": []
    },
    {
      "cell_type": "code",
      "metadata": {
        "trusted": true,
        "id": "5CNSBcRfNN1b"
      },
      "source": [
        "# Forecast\n",
        "fc, se, conf = model_fit.forecast(15, alpha=0.05)  # 95% conf\n",
        "\n",
        "# Make as pandas series\n",
        "fc_series = pd.Series(fc, index=test.index)\n",
        "lower_series = pd.Series(conf[:, 0], index=test.index)\n",
        "upper_series = pd.Series(conf[:, 1], index=test.index)"
      ],
      "execution_count": 37,
      "outputs": []
    },
    {
      "cell_type": "code",
      "metadata": {
        "trusted": true,
        "colab": {
          "base_uri": "https://localhost:8080/",
          "height": 0
        },
        "id": "q1v0l9Q1NN1b",
        "outputId": "758d047a-8ae9-4c74-b350-4722c1d952c0"
      },
      "source": [
        "# Accuracy metrics\n",
        "def forecast_accuracy(forecast, actual):\n",
        "    mape = np.mean(np.abs(forecast - actual)/np.abs(actual))  # MAPE\n",
        "    me = np.mean(forecast - actual)             # ME\n",
        "    mae = np.mean(np.abs(forecast - actual))    # MAE\n",
        "    mpe = np.mean((forecast - actual)/actual)   # MPE\n",
        "    rmse = np.mean((forecast - actual)**2)**.5  # RMSE\n",
        "    corr = np.corrcoef(forecast, actual)[0,1]   # corr\n",
        "    mins = np.amin(np.hstack([forecast[:,None], \n",
        "                              actual[:,None]]), axis=1)\n",
        "    maxs = np.amax(np.hstack([forecast[:,None], \n",
        "                              actual[:,None]]), axis=1)\n",
        "    minmax = 1 - np.mean(mins/maxs)             # minmax\n",
        "    return({'mape':mape, 'me':me, 'mae': mae, \n",
        "            'mpe': mpe, 'rmse':rmse, \n",
        "            'corr':corr, 'minmax':minmax})\n",
        "\n",
        "forecast_accuracy(fc, test.values)\n"
      ],
      "execution_count": 38,
      "outputs": [
        {
          "output_type": "execute_result",
          "data": {
            "text/plain": [
              "{'corr': -6.188251068286327e-15,\n",
              " 'mae': 10.543605038343602,\n",
              " 'mape': 0.026185215213246925,\n",
              " 'me': -10.543605038343602,\n",
              " 'minmax': 0.026185215213246904,\n",
              " 'mpe': -0.026185215213246925,\n",
              " 'rmse': 11.626186003583731}"
            ]
          },
          "metadata": {
            "tags": []
          },
          "execution_count": 38
        }
      ]
    },
    {
      "cell_type": "markdown",
      "metadata": {
        "id": "O0fZX7qVNN1b"
      },
      "source": [
        "****Around 2.6% MAPE implies the model is about 97.4% accurate in predicting the next 15 observations.****\n",
        "\n",
        "Please don't forget to upvote if my notebook helped you. 😀"
      ]
    }
  ]
}